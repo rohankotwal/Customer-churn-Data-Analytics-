{
 "cells": [
  {
   "cell_type": "code",
   "execution_count": 17,
   "metadata": {
    "executionInfo": {
     "elapsed": 435,
     "status": "ok",
     "timestamp": 1728932847561,
     "user": {
      "displayName": "Rohan Kotwal",
      "userId": "16116593517450048875"
     },
     "user_tz": -330
    },
    "id": "1bWlU8xrQKl5"
   },
   "outputs": [],
   "source": [
    "# Import necessary libraries\n",
    "\n",
    "import numpy as np\n",
    "import pandas as pd\n",
    "import matplotlib.pyplot as plt\n",
    "from IPython import get_ipython\n",
    "from IPython.display import display"
   ]
  },
  {
   "cell_type": "code",
   "execution_count": 18,
   "metadata": {
    "executionInfo": {
     "elapsed": 483,
     "status": "ok",
     "timestamp": 1728928419134,
     "user": {
      "displayName": "Rohan Kotwal",
      "userId": "16116593517450048875"
     },
     "user_tz": -330
    },
    "id": "npUmV8v9KKrT"
   },
   "outputs": [],
   "source": [
    "# Load the dataset\n",
    "\n",
    "dataset = pd.read_csv(\"C:/Users/asus/Documents/Python Scripts/ Customer Churn/BankCustomers.csv\")"
   ]
  },
  {
   "cell_type": "code",
   "execution_count": 19,
   "metadata": {
    "colab": {
     "base_uri": "https://localhost:8080/",
     "height": 226
    },
    "executionInfo": {
     "elapsed": 478,
     "status": "ok",
     "timestamp": 1728928434820,
     "user": {
      "displayName": "Rohan Kotwal",
      "userId": "16116593517450048875"
     },
     "user_tz": -330
    },
    "id": "BsCvi_rQKgiZ",
    "outputId": "d081ceaa-35b5-4584-8664-4f74ab435835"
   },
   "outputs": [
    {
     "data": {
      "text/html": [
       "<div>\n",
       "<style scoped>\n",
       "    .dataframe tbody tr th:only-of-type {\n",
       "        vertical-align: middle;\n",
       "    }\n",
       "\n",
       "    .dataframe tbody tr th {\n",
       "        vertical-align: top;\n",
       "    }\n",
       "\n",
       "    .dataframe thead th {\n",
       "        text-align: right;\n",
       "    }\n",
       "</style>\n",
       "<table border=\"1\" class=\"dataframe\">\n",
       "  <thead>\n",
       "    <tr style=\"text-align: right;\">\n",
       "      <th></th>\n",
       "      <th>RowNumber</th>\n",
       "      <th>CustomerId</th>\n",
       "      <th>Surname</th>\n",
       "      <th>CreditScore</th>\n",
       "      <th>Geography</th>\n",
       "      <th>Gender</th>\n",
       "      <th>Age</th>\n",
       "      <th>Tenure</th>\n",
       "      <th>Balance</th>\n",
       "      <th>NumOfProducts</th>\n",
       "      <th>HasCrCard</th>\n",
       "      <th>IsActiveMember</th>\n",
       "      <th>EstimatedSalary</th>\n",
       "      <th>Exited</th>\n",
       "    </tr>\n",
       "  </thead>\n",
       "  <tbody>\n",
       "    <tr>\n",
       "      <th>0</th>\n",
       "      <td>1</td>\n",
       "      <td>15634602</td>\n",
       "      <td>Hargrave</td>\n",
       "      <td>619</td>\n",
       "      <td>France</td>\n",
       "      <td>Female</td>\n",
       "      <td>42</td>\n",
       "      <td>2</td>\n",
       "      <td>0.00</td>\n",
       "      <td>1</td>\n",
       "      <td>1</td>\n",
       "      <td>1</td>\n",
       "      <td>101348.88</td>\n",
       "      <td>1</td>\n",
       "    </tr>\n",
       "    <tr>\n",
       "      <th>1</th>\n",
       "      <td>2</td>\n",
       "      <td>15647311</td>\n",
       "      <td>Hill</td>\n",
       "      <td>608</td>\n",
       "      <td>Spain</td>\n",
       "      <td>Female</td>\n",
       "      <td>41</td>\n",
       "      <td>1</td>\n",
       "      <td>83807.86</td>\n",
       "      <td>1</td>\n",
       "      <td>0</td>\n",
       "      <td>1</td>\n",
       "      <td>112542.58</td>\n",
       "      <td>0</td>\n",
       "    </tr>\n",
       "    <tr>\n",
       "      <th>2</th>\n",
       "      <td>3</td>\n",
       "      <td>15619304</td>\n",
       "      <td>Onio</td>\n",
       "      <td>502</td>\n",
       "      <td>France</td>\n",
       "      <td>Female</td>\n",
       "      <td>42</td>\n",
       "      <td>8</td>\n",
       "      <td>159660.80</td>\n",
       "      <td>3</td>\n",
       "      <td>1</td>\n",
       "      <td>0</td>\n",
       "      <td>113931.57</td>\n",
       "      <td>1</td>\n",
       "    </tr>\n",
       "    <tr>\n",
       "      <th>3</th>\n",
       "      <td>4</td>\n",
       "      <td>15701354</td>\n",
       "      <td>Boni</td>\n",
       "      <td>699</td>\n",
       "      <td>France</td>\n",
       "      <td>Female</td>\n",
       "      <td>39</td>\n",
       "      <td>1</td>\n",
       "      <td>0.00</td>\n",
       "      <td>2</td>\n",
       "      <td>0</td>\n",
       "      <td>0</td>\n",
       "      <td>93826.63</td>\n",
       "      <td>0</td>\n",
       "    </tr>\n",
       "    <tr>\n",
       "      <th>4</th>\n",
       "      <td>5</td>\n",
       "      <td>15737888</td>\n",
       "      <td>Mitchell</td>\n",
       "      <td>850</td>\n",
       "      <td>Spain</td>\n",
       "      <td>Female</td>\n",
       "      <td>43</td>\n",
       "      <td>2</td>\n",
       "      <td>125510.82</td>\n",
       "      <td>1</td>\n",
       "      <td>1</td>\n",
       "      <td>1</td>\n",
       "      <td>79084.10</td>\n",
       "      <td>0</td>\n",
       "    </tr>\n",
       "  </tbody>\n",
       "</table>\n",
       "</div>"
      ],
      "text/plain": [
       "   RowNumber  CustomerId   Surname  CreditScore Geography  Gender  Age  \\\n",
       "0          1    15634602  Hargrave          619    France  Female   42   \n",
       "1          2    15647311      Hill          608     Spain  Female   41   \n",
       "2          3    15619304      Onio          502    France  Female   42   \n",
       "3          4    15701354      Boni          699    France  Female   39   \n",
       "4          5    15737888  Mitchell          850     Spain  Female   43   \n",
       "\n",
       "   Tenure    Balance  NumOfProducts  HasCrCard  IsActiveMember  \\\n",
       "0       2       0.00              1          1               1   \n",
       "1       1   83807.86              1          0               1   \n",
       "2       8  159660.80              3          1               0   \n",
       "3       1       0.00              2          0               0   \n",
       "4       2  125510.82              1          1               1   \n",
       "\n",
       "   EstimatedSalary  Exited  \n",
       "0        101348.88       1  \n",
       "1        112542.58       0  \n",
       "2        113931.57       1  \n",
       "3         93826.63       0  \n",
       "4         79084.10       0  "
      ]
     },
     "execution_count": 19,
     "metadata": {},
     "output_type": "execute_result"
    }
   ],
   "source": [
    "# Display the first 5 rows of the dataset\n",
    "\n",
    "dataset.head(5)"
   ]
  },
  {
   "cell_type": "code",
   "execution_count": 20,
   "metadata": {
    "executionInfo": {
     "elapsed": 470,
     "status": "ok",
     "timestamp": 1728928461786,
     "user": {
      "displayName": "Rohan Kotwal",
      "userId": "16116593517450048875"
     },
     "user_tz": -330
    },
    "id": "Wzb-mHGPKkYW"
   },
   "outputs": [],
   "source": [
    "# Extract the independent variables (features)\n",
    "\n",
    "X = dataset.iloc[:,3:13].values # Selecting columns 3 to 12"
   ]
  },
  {
   "cell_type": "code",
   "execution_count": 21,
   "metadata": {
    "executionInfo": {
     "elapsed": 536,
     "status": "ok",
     "timestamp": 1728928500882,
     "user": {
      "displayName": "Rohan Kotwal",
      "userId": "16116593517450048875"
     },
     "user_tz": -330
    },
    "id": "41XGCnTwKvRh"
   },
   "outputs": [],
   "source": [
    "# Convert X to a Pandas DataFrame with column names\n",
    "\n",
    "X = pd.DataFrame(X, columns=['CreditScore', 'Geography', 'Gender', 'Age', 'Tenure',\n",
    "                                 'Balance', 'NumOfProducts', 'HasCrCard',\n",
    "                                 'IsActiveMember', 'EstimatedSalary'])"
   ]
  },
  {
   "cell_type": "code",
   "execution_count": 22,
   "metadata": {
    "colab": {
     "base_uri": "https://localhost:8080/",
     "height": 206
    },
    "executionInfo": {
     "elapsed": 443,
     "status": "ok",
     "timestamp": 1728928513455,
     "user": {
      "displayName": "Rohan Kotwal",
      "userId": "16116593517450048875"
     },
     "user_tz": -330
    },
    "id": "XeN_UAFrK0fV",
    "outputId": "3c99d72b-9a58-4c94-c1ea-7e7189f3fa38"
   },
   "outputs": [
    {
     "data": {
      "text/html": [
       "<div>\n",
       "<style scoped>\n",
       "    .dataframe tbody tr th:only-of-type {\n",
       "        vertical-align: middle;\n",
       "    }\n",
       "\n",
       "    .dataframe tbody tr th {\n",
       "        vertical-align: top;\n",
       "    }\n",
       "\n",
       "    .dataframe thead th {\n",
       "        text-align: right;\n",
       "    }\n",
       "</style>\n",
       "<table border=\"1\" class=\"dataframe\">\n",
       "  <thead>\n",
       "    <tr style=\"text-align: right;\">\n",
       "      <th></th>\n",
       "      <th>Germany</th>\n",
       "      <th>Spain</th>\n",
       "    </tr>\n",
       "  </thead>\n",
       "  <tbody>\n",
       "    <tr>\n",
       "      <th>0</th>\n",
       "      <td>False</td>\n",
       "      <td>False</td>\n",
       "    </tr>\n",
       "    <tr>\n",
       "      <th>1</th>\n",
       "      <td>False</td>\n",
       "      <td>True</td>\n",
       "    </tr>\n",
       "    <tr>\n",
       "      <th>2</th>\n",
       "      <td>False</td>\n",
       "      <td>False</td>\n",
       "    </tr>\n",
       "    <tr>\n",
       "      <th>3</th>\n",
       "      <td>False</td>\n",
       "      <td>False</td>\n",
       "    </tr>\n",
       "    <tr>\n",
       "      <th>4</th>\n",
       "      <td>False</td>\n",
       "      <td>True</td>\n",
       "    </tr>\n",
       "  </tbody>\n",
       "</table>\n",
       "</div>"
      ],
      "text/plain": [
       "   Germany  Spain\n",
       "0    False  False\n",
       "1    False   True\n",
       "2    False  False\n",
       "3    False  False\n",
       "4    False   True"
      ]
     },
     "execution_count": 22,
     "metadata": {},
     "output_type": "execute_result"
    }
   ],
   "source": [
    "# Create dummy variables for the 'Geography' column\n",
    "\n",
    "states = pd.get_dummies(X['Geography'], drop_first=True) # One-hot encoding\n",
    "states.head(5)"
   ]
  },
  {
   "cell_type": "code",
   "execution_count": 23,
   "metadata": {
    "colab": {
     "base_uri": "https://localhost:8080/",
     "height": 206
    },
    "executionInfo": {
     "elapsed": 452,
     "status": "ok",
     "timestamp": 1728928527737,
     "user": {
      "displayName": "Rohan Kotwal",
      "userId": "16116593517450048875"
     },
     "user_tz": -330
    },
    "id": "69oE0vPnK3lR",
    "outputId": "9b006a18-14b3-4255-b9bf-6837c752e3e8"
   },
   "outputs": [
    {
     "data": {
      "text/html": [
       "<div>\n",
       "<style scoped>\n",
       "    .dataframe tbody tr th:only-of-type {\n",
       "        vertical-align: middle;\n",
       "    }\n",
       "\n",
       "    .dataframe tbody tr th {\n",
       "        vertical-align: top;\n",
       "    }\n",
       "\n",
       "    .dataframe thead th {\n",
       "        text-align: right;\n",
       "    }\n",
       "</style>\n",
       "<table border=\"1\" class=\"dataframe\">\n",
       "  <thead>\n",
       "    <tr style=\"text-align: right;\">\n",
       "      <th></th>\n",
       "      <th>Male</th>\n",
       "    </tr>\n",
       "  </thead>\n",
       "  <tbody>\n",
       "    <tr>\n",
       "      <th>0</th>\n",
       "      <td>False</td>\n",
       "    </tr>\n",
       "    <tr>\n",
       "      <th>1</th>\n",
       "      <td>False</td>\n",
       "    </tr>\n",
       "    <tr>\n",
       "      <th>2</th>\n",
       "      <td>False</td>\n",
       "    </tr>\n",
       "    <tr>\n",
       "      <th>3</th>\n",
       "      <td>False</td>\n",
       "    </tr>\n",
       "    <tr>\n",
       "      <th>4</th>\n",
       "      <td>False</td>\n",
       "    </tr>\n",
       "  </tbody>\n",
       "</table>\n",
       "</div>"
      ],
      "text/plain": [
       "    Male\n",
       "0  False\n",
       "1  False\n",
       "2  False\n",
       "3  False\n",
       "4  False"
      ]
     },
     "execution_count": 23,
     "metadata": {},
     "output_type": "execute_result"
    }
   ],
   "source": [
    "# Create dummy variables for the 'Gender' column\n",
    "\n",
    "gender = pd.get_dummies(X['Gender'], drop_first=True) # One-hot encoding\n",
    "gender.head(5)"
   ]
  },
  {
   "cell_type": "code",
   "execution_count": 24,
   "metadata": {
    "executionInfo": {
     "elapsed": 428,
     "status": "ok",
     "timestamp": 1728928543397,
     "user": {
      "displayName": "Rohan Kotwal",
      "userId": "16116593517450048875"
     },
     "user_tz": -330
    },
    "id": "UbXglbX4K7Ea"
   },
   "outputs": [],
   "source": [
    "# Drop the original 'Geography' and 'Gender' columns\n",
    "\n",
    "X = X.drop(['Geography','Gender'], axis = 1)"
   ]
  },
  {
   "cell_type": "code",
   "execution_count": 25,
   "metadata": {
    "colab": {
     "base_uri": "https://localhost:8080/",
     "height": 226
    },
    "executionInfo": {
     "elapsed": 668,
     "status": "ok",
     "timestamp": 1728928553470,
     "user": {
      "displayName": "Rohan Kotwal",
      "userId": "16116593517450048875"
     },
     "user_tz": -330
    },
    "id": "KWo3bu7xK-5g",
    "outputId": "c00189e1-55b9-45f1-92fa-2f2843d9e133"
   },
   "outputs": [
    {
     "data": {
      "text/html": [
       "<div>\n",
       "<style scoped>\n",
       "    .dataframe tbody tr th:only-of-type {\n",
       "        vertical-align: middle;\n",
       "    }\n",
       "\n",
       "    .dataframe tbody tr th {\n",
       "        vertical-align: top;\n",
       "    }\n",
       "\n",
       "    .dataframe thead th {\n",
       "        text-align: right;\n",
       "    }\n",
       "</style>\n",
       "<table border=\"1\" class=\"dataframe\">\n",
       "  <thead>\n",
       "    <tr style=\"text-align: right;\">\n",
       "      <th></th>\n",
       "      <th>CreditScore</th>\n",
       "      <th>Age</th>\n",
       "      <th>Tenure</th>\n",
       "      <th>Balance</th>\n",
       "      <th>NumOfProducts</th>\n",
       "      <th>HasCrCard</th>\n",
       "      <th>IsActiveMember</th>\n",
       "      <th>EstimatedSalary</th>\n",
       "      <th>Germany</th>\n",
       "      <th>Spain</th>\n",
       "      <th>Male</th>\n",
       "    </tr>\n",
       "  </thead>\n",
       "  <tbody>\n",
       "    <tr>\n",
       "      <th>0</th>\n",
       "      <td>619</td>\n",
       "      <td>42</td>\n",
       "      <td>2</td>\n",
       "      <td>0.0</td>\n",
       "      <td>1</td>\n",
       "      <td>1</td>\n",
       "      <td>1</td>\n",
       "      <td>101348.88</td>\n",
       "      <td>False</td>\n",
       "      <td>False</td>\n",
       "      <td>False</td>\n",
       "    </tr>\n",
       "    <tr>\n",
       "      <th>1</th>\n",
       "      <td>608</td>\n",
       "      <td>41</td>\n",
       "      <td>1</td>\n",
       "      <td>83807.86</td>\n",
       "      <td>1</td>\n",
       "      <td>0</td>\n",
       "      <td>1</td>\n",
       "      <td>112542.58</td>\n",
       "      <td>False</td>\n",
       "      <td>True</td>\n",
       "      <td>False</td>\n",
       "    </tr>\n",
       "    <tr>\n",
       "      <th>2</th>\n",
       "      <td>502</td>\n",
       "      <td>42</td>\n",
       "      <td>8</td>\n",
       "      <td>159660.8</td>\n",
       "      <td>3</td>\n",
       "      <td>1</td>\n",
       "      <td>0</td>\n",
       "      <td>113931.57</td>\n",
       "      <td>False</td>\n",
       "      <td>False</td>\n",
       "      <td>False</td>\n",
       "    </tr>\n",
       "    <tr>\n",
       "      <th>3</th>\n",
       "      <td>699</td>\n",
       "      <td>39</td>\n",
       "      <td>1</td>\n",
       "      <td>0.0</td>\n",
       "      <td>2</td>\n",
       "      <td>0</td>\n",
       "      <td>0</td>\n",
       "      <td>93826.63</td>\n",
       "      <td>False</td>\n",
       "      <td>False</td>\n",
       "      <td>False</td>\n",
       "    </tr>\n",
       "    <tr>\n",
       "      <th>4</th>\n",
       "      <td>850</td>\n",
       "      <td>43</td>\n",
       "      <td>2</td>\n",
       "      <td>125510.82</td>\n",
       "      <td>1</td>\n",
       "      <td>1</td>\n",
       "      <td>1</td>\n",
       "      <td>79084.1</td>\n",
       "      <td>False</td>\n",
       "      <td>True</td>\n",
       "      <td>False</td>\n",
       "    </tr>\n",
       "  </tbody>\n",
       "</table>\n",
       "</div>"
      ],
      "text/plain": [
       "  CreditScore Age Tenure    Balance NumOfProducts HasCrCard IsActiveMember  \\\n",
       "0         619  42      2        0.0             1         1              1   \n",
       "1         608  41      1   83807.86             1         0              1   \n",
       "2         502  42      8   159660.8             3         1              0   \n",
       "3         699  39      1        0.0             2         0              0   \n",
       "4         850  43      2  125510.82             1         1              1   \n",
       "\n",
       "  EstimatedSalary  Germany  Spain   Male  \n",
       "0       101348.88    False  False  False  \n",
       "1       112542.58    False   True  False  \n",
       "2       113931.57    False  False  False  \n",
       "3        93826.63    False  False  False  \n",
       "4         79084.1    False   True  False  "
      ]
     },
     "execution_count": 25,
     "metadata": {},
     "output_type": "execute_result"
    }
   ],
   "source": [
    "# Concatenate the dummy variables with the rest of the features\n",
    "\n",
    "X = pd.concat([X, states, gender], axis = 1)\n",
    "X.head(5)"
   ]
  },
  {
   "cell_type": "code",
   "execution_count": 26,
   "metadata": {
    "executionInfo": {
     "elapsed": 424,
     "status": "ok",
     "timestamp": 1728928605051,
     "user": {
      "displayName": "Rohan Kotwal",
      "userId": "16116593517450048875"
     },
     "user_tz": -330
    },
    "id": "Ng1XKNdkLBS_"
   },
   "outputs": [],
   "source": [
    "# Split the data into training and testing sets\n",
    "\n",
    "from sklearn.model_selection import train_test_split\n",
    "\n",
    " # Selecting the target variable (column 13)\n",
    "\n",
    "Y = dataset.iloc[:,13].values\n",
    "\n",
    " # 80% training, 20% testing\n",
    "\n",
    "X_train, X_test, Ytrain, Y_test = train_test_split(X, Y, test_size = 0.2, random_state = 0)"
   ]
  },
  {
   "cell_type": "code",
   "execution_count": null,
   "metadata": {
    "executionInfo": {
     "elapsed": 479,
     "status": "ok",
     "timestamp": 1728928717831,
     "user": {
      "displayName": "Rohan Kotwal",
      "userId": "16116593517450048875"
     },
     "user_tz": -330
    },
    "id": "JWR0wOujLlgg"
   },
   "outputs": [],
   "source": [
    "# Feature scaling using StandardScaler\n",
    "\n",
    "from sklearn.preprocessing import StandardScaler\n",
    "sc = StandardScaler()\n",
    "\n",
    "# Fit and transform on training data\n",
    "\n",
    "X_train = sc.fit_transform(X_train)\n",
    "\n",
    "# Transform testing data using the same scaler\n",
    "\n",
    "X_test = sc.transform(X_test)"
   ]
  },
  {
   "cell_type": "code",
   "execution_count": null,
   "metadata": {},
   "outputs": [],
   "source": [
    "!pip install tensorflow"
   ]
  },
  {
   "cell_type": "code",
   "execution_count": null,
   "metadata": {
    "executionInfo": {
     "elapsed": 412,
     "status": "ok",
     "timestamp": 1728928889464,
     "user": {
      "displayName": "Rohan Kotwal",
      "userId": "16116593517450048875"
     },
     "user_tz": -330
    },
    "id": "LYFUn8E9LsM5"
   },
   "outputs": [],
   "source": [
    "# Build the Artificial Neural Network (ANN)\n",
    "\n",
    "import tensorflow as tf\n",
    "\n",
    "from tensorflow.keras.models import Sequential\n",
    "from tensorflow.keras.layers import Dense"
   ]
  },
  {
   "cell_type": "code",
   "execution_count": null,
   "metadata": {
    "colab": {
     "base_uri": "https://localhost:8080/"
    },
    "executionInfo": {
     "elapsed": 461,
     "status": "ok",
     "timestamp": 1728933436756,
     "user": {
      "displayName": "Rohan Kotwal",
      "userId": "16116593517450048875"
     },
     "user_tz": -330
    },
    "id": "UzGkItS4M1XC",
    "outputId": "256312e8-9556-44b8-e9e3-5dc5b2da38c7"
   },
   "outputs": [],
   "source": [
    " # Create a sequential model\n",
    "\n",
    "Classifier = Sequential()\n",
    "Classifier.add(Dense(activation='relu', input_dim=11, units=6, kernel_initializer=\"uniform\"))\n",
    "Classifier.add(Dense(activation='relu',units=6, kernel_initializer=\"uniform\"))\n",
    "Classifier.add(Dense(activation='sigmoid', units=1, kernel_initializer=\"uniform\"))"
   ]
  },
  {
   "cell_type": "code",
   "execution_count": null,
   "metadata": {
    "executionInfo": {
     "elapsed": 468,
     "status": "ok",
     "timestamp": 1728933572985,
     "user": {
      "displayName": "Rohan Kotwal",
      "userId": "16116593517450048875"
     },
     "user_tz": -330
    },
    "id": "PAQ01ytzeBtj"
   },
   "outputs": [],
   "source": [
    "# Compile the model\n",
    "\n",
    "Classifier.compile(optimizer=\"adam\", loss=\"binary_crossentropy\", metrics=['accuracy'])  # Using Adam optimizer, binary cross-entropy loss\n"
   ]
  },
  {
   "cell_type": "code",
   "execution_count": null,
   "metadata": {
    "colab": {
     "base_uri": "https://localhost:8080/"
    },
    "executionInfo": {
     "elapsed": 136063,
     "status": "ok",
     "timestamp": 1728932157863,
     "user": {
      "displayName": "Rohan Kotwal",
      "userId": "16116593517450048875"
     },
     "user_tz": -330
    },
    "id": "Z11BIhUwWxn4",
    "outputId": "37f4051e-bcdc-4a33-c7b0-b92970b12d64"
   },
   "outputs": [],
   "source": [
    "# Train the model\n",
    "\n",
    "Classifier.fit(X_train, Ytrain, batch_size=10, epochs=100)"
   ]
  },
  {
   "cell_type": "code",
   "execution_count": 38,
   "metadata": {
    "colab": {
     "base_uri": "https://localhost:8080/"
    },
    "executionInfo": {
     "elapsed": 1143,
     "status": "ok",
     "timestamp": 1728932416809,
     "user": {
      "displayName": "Rohan Kotwal",
      "userId": "16116593517450048875"
     },
     "user_tz": -330
    },
    "id": "LiDPhv3_YQOK",
    "outputId": "43646389-5def-4418-c295-77a24e89504f"
   },
   "outputs": [
    {
     "name": "stdout",
     "output_type": "stream",
     "text": [
      "\u001b[1m63/63\u001b[0m \u001b[32m━━━━━━━━━━━━━━━━━━━━\u001b[0m\u001b[37m\u001b[0m \u001b[1m0s\u001b[0m 5ms/step\n"
     ]
    }
   ],
   "source": [
    "# Make predictions on the test set\n",
    "y_pred = Classifier.predict(X_test)"
   ]
  },
  {
   "cell_type": "code",
   "execution_count": null,
   "metadata": {
    "executionInfo": {
     "elapsed": 528,
     "status": "ok",
     "timestamp": 1728932450502,
     "user": {
      "displayName": "Rohan Kotwal",
      "userId": "16116593517450048875"
     },
     "user_tz": -330
    },
    "id": "fQapcqpLZwXm"
   },
   "outputs": [],
   "source": [
    "# Convert probabilities to binary predictions\n",
    "y_pred = (y_pred > 0.5)"
   ]
  },
  {
   "cell_type": "code",
   "execution_count": null,
   "metadata": {
    "colab": {
     "base_uri": "https://localhost:8080/"
    },
    "executionInfo": {
     "elapsed": 525,
     "status": "ok",
     "timestamp": 1728932676704,
     "user": {
      "displayName": "Rohan Kotwal",
      "userId": "16116593517450048875"
     },
     "user_tz": -330
    },
    "id": "fW8HCp72Z4wk",
    "outputId": "50a8691c-6917-469a-bf75-a70ce7ef8f0c"
   },
   "outputs": [],
   "source": [
    "# Evaluate the model\n",
    "from sklearn.metrics import confusion_matrix, accuracy_score\n",
    "\n",
    "# Create confusion matrix\n",
    "cm = confusion_matrix(Y_test, y_pred)\n",
    "\n",
    "# Calculate accuracy score\n",
    "accuracy_score(Y_test, y_pred)"
   ]
  },
  {
   "cell_type": "markdown",
   "metadata": {
    "id": "hJghSmlteyuD"
   },
   "source": [
    "Imports\n",
    "\n",
    "Numpy: Used for numerical operations, especially with arrays and matrices.\n",
    "\n",
    "\n",
    "pandas: Used for data manipulation and analysis, particularly with DataFrames.\n",
    "matplotlib.pyplot: Used for creating visualizations, such as plots and charts.\n",
    "IPython.get_ipython: Provides access to the current IPython InteractiveShell instance.\n",
    "IPython.display.display: Used to display objects in the output area of a code cell.\n",
    "sklearn.model_selection.train_test_split: Splits data into random train and test subsets.\n",
    "sklearn.preprocessing.StandardScaler: Standardizes features by removing the mean and scaling to unit variance.\n",
    "tensorflow: An open-source machine learning framework.\n",
    "tensorflow.keras.models.Sequential: A linear stack of layers for building neural networks.\n",
    "tensorflow.keras.layers.Dense: A densely connected neural network layer.\n",
    "sklearn.metrics.confusion_matrix: Computes a confusion matrix to evaluate the accuracy of a classification.\n",
    "sklearn.metrics.accuracy_score: Calculates the accuracy score of a classification model.\n",
    "Methods\n",
    "\n",
    "pd.read_csv(): Reads data from a CSV file into a pandas DataFrame.\n",
    "dataset.head(): Displays the first few rows of a DataFrame.\n",
    "pd.DataFrame(): Creates a pandas DataFrame from an array or other data structures.\n",
    "pd.get_dummies(): Converts categorical variables into dummy/indicator variables.\n",
    "X.drop(): Removes specified columns from a DataFrame.\n",
    "pd.concat(): Concatenates two or more DataFrames along a particular axis.\n",
    "train_test_split(): Splits data into training and testing sets.\n",
    "sc.fit_transform(): Fits a StandardScaler to data and then transforms it.\n",
    "sc.transform(): Transforms data using a pre-fitted StandardScaler.\n",
    "Sequential(): Creates a Keras Sequential model.\n",
    "Classifier.add(): Adds a layer to a Keras model.\n",
    "Classifier.compile(): Configures the learning process of a Keras model.\n",
    "Classifier.fit(): Trains a Keras model on data.\n",
    "Classifier.predict(): Generates predictions from a Keras model.\n",
    "confusion_matrix(): Creates a confusion matrix.\n",
    "accuracy_score(): Calculates the accuracy score.\n",
    "Attributes\n",
    "\n",
    "iloc: Used to select rows and columns from a DataFrame by their integer location.\n",
    "values: Returns the NumPy array representation of a pandas DataFrame.\n",
    "columns: Specifies the column names of a DataFrame.\n",
    "axis: Determines the axis along which an operation is performed (0 for rows, 1 for columns).\n",
    "test_size: Specifies the proportion of data to include in the test split.\n",
    "random_state: Controls the shuffling applied to the data before applying the split.\n",
    "activation: Specifies the activation function for a neural network layer.\n",
    "input_dim: Specifies the number of input features for a neural network layer.\n",
    "units: Specifies the number of neurons in a neural network layer.\n",
    "kernel_initializer: Specifies the weight initialization method for a neural network layer.\n",
    "optimizer: Specifies the optimization algorithm for training a neural network.\n",
    "loss: Specifies the loss function to be minimized during training.\n",
    "metrics: Specifies the evaluation metrics to be monitored during training.\n",
    "batch_size: Specifies the number of samples per gradient update.\n",
    "epochs: Specifies the number of times the training data is iterated over."
   ]
  }
 ],
 "metadata": {
  "colab": {
   "authorship_tag": "ABX9TyMq6bqKvDIq3qBSc7Pzfj1f",
   "provenance": []
  },
  "kernelspec": {
   "display_name": "Python 3 (ipykernel)",
   "language": "python",
   "name": "python3"
  },
  "language_info": {
   "codemirror_mode": {
    "name": "ipython",
    "version": 3
   },
   "file_extension": ".py",
   "mimetype": "text/x-python",
   "name": "python",
   "nbconvert_exporter": "python",
   "pygments_lexer": "ipython3",
   "version": "3.12.4"
  }
 },
 "nbformat": 4,
 "nbformat_minor": 4
}
